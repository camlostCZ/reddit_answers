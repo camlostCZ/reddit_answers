{
 "cells": [
  {
   "cell_type": "markdown",
   "metadata": {},
   "source": [
    "# Computing with Python\n",
    "\n",
    "A hands-on introduction to the Python programming language\n",
    "\n",
    "Each of the following tasks should be saved in a separate script (.py file unless a task specifies otherwise.)\n",
    "\n",
    "The output of results is to be formatted at your own discretion.\n",
    "\n",
    "## 1 Dealing with variables\n",
    "\n",
    "The following tasks introduce you to the basic syntax of Python. Among other things, they contain the use of variables of different data types and train the handling of constructs such as conditions and loops.\n",
    "\n",
    "### 1.1 Simple arithmetic\n",
    "\n",
    "Write a script that prints the result of two operands. The sum, the difference, the product and the quotient are to be calculated. The output should contain the operands and all results."
   ]
  },
  {
   "cell_type": "markdown",
   "metadata": {},
   "source": [
    "> This is rather straightforward but one thing is to be mentioned: \n",
    "> Python uses so-called *f-string* to format data and to insert data into text.\n",
    "> The usage can be seen in the code bellow. (Note the `f` before strings.)"
   ]
  },
  {
   "cell_type": "code",
   "execution_count": 3,
   "metadata": {},
   "outputs": [
    {
     "name": "stdout",
     "output_type": "stream",
     "text": [
      "7 + 4 = 11\n",
      "7 - 4 = 3\n",
      "7 * 4 = 28\n",
      "7 / 4 = 1 with remainder 3 \n"
     ]
    }
   ],
   "source": [
    "op1 = 7\n",
    "op2 = 4\n",
    "\n",
    "print(f\"{op1} + {op2} = {op1 + op2}\")\n",
    "print(f\"{op1} - {op2} = {op1 - op2}\")\n",
    "print(f\"{op1} * {op2} = {op1 * op2}\")\n",
    "print(f\"{op1} / {op2} = {op1 // op2} with remainder {op1 % op2} \")"
   ]
  },
  {
   "cell_type": "markdown",
   "metadata": {},
   "source": [
    "### 1.2 User Submissions\n",
    "\n",
    "Extend the script from exercise 1.1:\n",
    "\n",
    "Read in the operands and the desired operation as user input. The output should contain the calculated formula including the result."
   ]
  },
  {
   "cell_type": "markdown",
   "metadata": {},
   "source": [
    "> Again, a simple task. The important think to think of is that the `input()` function\n",
    "> used to let the user enter data returns a string value. Such a value has to be\n",
    "> converted to a number if it should be a math operand."
   ]
  },
  {
   "cell_type": "code",
   "execution_count": 6,
   "metadata": {},
   "outputs": [
    {
     "name": "stdout",
     "output_type": "stream",
     "text": [
      "13 / 6 = 2 with remainder 1 \n"
     ]
    }
   ],
   "source": [
    "operator = input(\"Choose an operation: (+, -, *, /) \")\n",
    "data1 = input(\"Enter the 1st operand (integer): \")\n",
    "op1 = int(data1)\n",
    "data2 = input(\"Enter the 2nd operand (integer): \")\n",
    "op2 = int(data2)\n",
    "\n",
    "# Python has the `eval()` function which could be used.\n",
    "# However, it is insecure to use it so we will have to deal\n",
    "# with the task without using it.\n",
    "\n",
    "if operator == '+':\n",
    "    print(f\"{op1} + {op2} = {op1 + op2}\")\n",
    "elif operator == '-':\n",
    "    print(f\"{op1} - {op2} = {op1 - op2}\")\n",
    "elif operator == '*':\n",
    "    print(f\"{op1} * {op2} = {op1 * op2}\")\n",
    "elif operator == '/':\n",
    "    # Here we do an integer division again as it's more fun\n",
    "    print(f\"{op1} / {op2} = {op1 // op2} with remainder {op1 % op2} \")\n",
    "else:\n",
    "    print(\"Uknown operation.\")"
   ]
  },
  {
   "cell_type": "markdown",
   "metadata": {},
   "source": [
    "### 1.3 Error Handling 1: Conditions\n",
    "\n",
    "Check the input from task 1.2 for usability and point out incorrect inputs to the user and end the processing of the script."
   ]
  },
  {
   "cell_type": "markdown",
   "metadata": {},
   "source": [
    "> How can we check if the user entered an expected result?\n",
    "> In the case of operator, the input has to be one of the 4 characters. \n",
    "> So we will create a list of these characters and check the input against the list.\n",
    "> In case of numbers, we can use the `isdigit()` method of Python `str` type since we're\n",
    "> allowing only integers. Another method, `isdecimal()` could be used for real numbers."
   ]
  },
  {
   "cell_type": "code",
   "execution_count": 10,
   "metadata": {},
   "outputs": [
    {
     "name": "stdout",
     "output_type": "stream",
     "text": [
      "5 * 8 = 40\n"
     ]
    }
   ],
   "source": [
    "OPERATORS = ['+', '-', '*', '/']\n",
    "\n",
    "op = input(\"Choose an operation: (+, -, *, /) \")\n",
    "if op not in OPERATORS:\n",
    "    print(\"Invalid operation\")\n",
    "else:\n",
    "    # A valid operation entered\n",
    "    data1 = input(\"Enter the 1st operand (integer): \")\n",
    "    if not data1.isdigit():\n",
    "        print(\"Not a number.\")\n",
    "    else:\n",
    "        data2 = input(\"Enter the 2nd operand (integer): \")\n",
    "        if not data2.isdigit():\n",
    "            print(\"Not a number.\")\n",
    "        else:\n",
    "            # Everyting should be ok, do the math\n",
    "            op1 = int(data1)\n",
    "            op2 = int(data2)\n",
    "            if op == '+':\n",
    "                print(f\"{op1} + {op2} = {op1 + op2}\")\n",
    "            elif op == '-':\n",
    "                print(f\"{op1} - {op2} = {op1 - op2}\")\n",
    "            elif op == '*':\n",
    "                print(f\"{op1} * {op2} = {op1 * op2}\")\n",
    "            elif op == '/':\n",
    "                # Here we do an integer division again as it's more fun\n",
    "                print(f\"{op1} / {op2} = {op1 // op2} with remainder {op1 % op2} \")"
   ]
  },
  {
   "cell_type": "markdown",
   "metadata": {},
   "source": [
    "### 1.4 Error Handling 2: Loops\n",
    "\n",
    "Check the input from exercise 1.2 for usability and point out incorrect entries to the user. Request the entries again up to a self-selected number of attempts. After that, the processing of the script is to be terminated."
   ]
  },
  {
   "cell_type": "markdown",
   "metadata": {},
   "source": [
    "> So far, we haven't terminated the script directly - we just let it go to the end \n",
    "> skipping individual parts using `if`, `elif`, `else`.\n",
    "> The `exit()` function can terminate a running script directly.\n",
    "> There is another new topic in this task - letting user re-enter data in case of invalid input.\n",
    "> Python provides two types of loops, `for` and `while`. As `for` is typically used to iterate\n",
    "> through a sequence, we will use the `while` loop."
   ]
  },
  {
   "cell_type": "code",
   "execution_count": 1,
   "metadata": {},
   "outputs": [
    {
     "name": "stdout",
     "output_type": "stream",
     "text": [
      "3 + 4 = 7\n"
     ]
    }
   ],
   "source": [
    "MAX_RETRIES = 3    # Number of allowed retries\n",
    "\n",
    "OPERATORS = ['+', '-', '*', '/']\n",
    "\n",
    "op = input(\"Choose an operation: (+, -, *, /) \")\n",
    "retries = 0\n",
    "while op not in OPERATORS and retries < MAX_RETRIES:\n",
    "    # Display an error message\n",
    "    print(\"Error: Invalid operations specified.\")\n",
    "    # Let the user re-enter data\n",
    "    op = input(\"Choose an operation: (+, -, *, /) \")\n",
    "    # Increase number of attempts. Note the += operator.\n",
    "    retries += 1\n",
    "if retries == MAX_RETRIES:\n",
    "    exit()\n",
    "\n",
    "# Similarly for the numbers\n",
    "\n",
    "data1 = input(\"Enter the 1st operand (integer): \")\n",
    "retries = 0    # Reset the number of retries\n",
    "while not data1.isdigit() and retries < MAX_RETRIES:\n",
    "    print(\"Error: Not an integer.\")\n",
    "    data1 = input(\"Enter the 1st operand (integer): \")\n",
    "    retries += 1\n",
    "if retries == MAX_RETRIES:\n",
    "    exit()\n",
    "\n",
    "data2 = input(\"Enter the 2nd operand (integer): \")\n",
    "retries = 0    # Reset the number of retries\n",
    "while not data2.isdigit() and retries < MAX_RETRIES:\n",
    "    print(\"Error: Not an integer.\")\n",
    "    data2 = input(\"Enter the 2nd operand (integer): \")\n",
    "    retries += 1\n",
    "if retries == MAX_RETRIES:\n",
    "    exit()\n",
    "\n",
    "# Everyting should be ok, do the math\n",
    "op1 = int(data1)\n",
    "op2 = int(data2)\n",
    "if op == '+':\n",
    "    print(f\"{op1} + {op2} = {op1 + op2}\")\n",
    "elif op == '-':\n",
    "    print(f\"{op1} - {op2} = {op1 - op2}\")\n",
    "elif op == '*':\n",
    "    print(f\"{op1} * {op2} = {op1 * op2}\")\n",
    "elif op == '/':\n",
    "    # Here we do an integer division again as it's more fun\n",
    "    print(f\"{op1} / {op2} = {op1 // op2} with remainder {op1 % op2} \")"
   ]
  },
  {
   "cell_type": "markdown",
   "metadata": {},
   "source": [
    "> As can be seen, the last code cell contained many nearly identical pieces of code.\n",
    "> Not only it's not much fun to write the same code again and again, it's also\n",
    "> prone to mistakes and complicated to modify later on when there is a need\n",
    "> to fix or improve the code.\n",
    "> Fortunately, functions come to our help."
   ]
  },
  {
   "cell_type": "markdown",
   "metadata": {},
   "source": [
    "## 2 Using Functions\n",
    "\n",
    "The basic use of functions in Python is taught using the rules for calculating Fibonacci numbers. Before you start programming, find out how Fibonacci numbers work.\n",
    "\n",
    "### 2.1 Parameter passing\n",
    "\n",
    "Write a script containing a function with 3 parameters. The function should output the passed parameters."
   ]
  },
  {
   "cell_type": "markdown",
   "metadata": {},
   "source": [
    "> Thisk task doesn't give much hint the function name and parameters od about intended use.\n",
    "> So we just try something simple.\n",
    "\n",
    "> Anyway, what is a function? It's a (usually) named piece of code optionally with parameters.\n",
    "> In a typical situation, a function returns a value. It's behaviour is very similar to functions\n",
    "> in math, for example sinus: You choose a parameter, put it into the function and get a result.\n",
    " \n",
    "    y = sin(x)\n",
    "\n",
    "> In python:\n",
    "\n",
    "    result = function_name(parameter1)\n",
    "\n",
    "> If a function has more parameters, they are comma-delimited.\n",
    "\n",
    "> By the way, we have already used functions in our previous code - `input()` and `print()`.\n",
    "> So we know that using or calling a function is done by writing its name immediatelly followed\n",
    "> by parenthesis with parameters."
   ]
  },
  {
   "cell_type": "code",
   "execution_count": 2,
   "metadata": {},
   "outputs": [
    {
     "name": "stdout",
     "output_type": "stream",
     "text": [
      "Parameters: 1, 2, 3\n",
      "There is a secret! Check the result.\n",
      "Secret: 1\n",
      "Parameters: 5, 3, 5\n",
      "There is a secret! Check the result.\n",
      "Secret: 1\n"
     ]
    }
   ],
   "source": [
    "def secret(par1, par2, par3):\n",
    "    print(f\"Parameters: {par1}, {par2}, {par3}\")\n",
    "    print(\"There is a secret! Check the result.\")\n",
    "    result = par1 + par2 - par2\n",
    "    return result\n",
    "\n",
    "secret1 = secret(1, 2, 3)\n",
    "print(f\"Secret: {secret1}\")\n",
    "\n",
    "secret2 = secret(5, 3, 5)\n",
    "print(f\"Secret: {secret1}\")"
   ]
  },
  {
   "cell_type": "markdown",
   "metadata": {},
   "source": [
    "> Note how easy was to run the same code using a function with parameters.\n",
    "> Whenever there are similar pieces of code in a program, it's a sign functions\n",
    "> should be considered. "
   ]
  },
  {
   "cell_type": "markdown",
   "metadata": {},
   "source": [
    "### 2.2 Recursion\n",
    "\n",
    "Extend the script from exercise 2.1:\n",
    "\n",
    "Use 2 of the parameters as summands and the third as a loop counter. In each recursion step, the function is called again with the parameters\n",
    "\n",
    "• Second summand\n",
    "\n",
    "• Total\n",
    "\n",
    "• Reduced pedometer\n",
    "\n",
    "At the end of the recursion, the original parameters should be output and the last calculated sum."
   ]
  },
  {
   "cell_type": "markdown",
   "metadata": {},
   "source": [
    "> Here to machine translation is not good. But let's see what we can do.\n",
    ">"
   ]
  },
  {
   "cell_type": "code",
   "execution_count": 7,
   "metadata": {},
   "outputs": [
    {
     "name": "stdout",
     "output_type": "stream",
     "text": [
      "Parameters: num=4, total=0, steps=3\n",
      "Parameters: num=4, total=4, steps=2\n",
      "Parameters: num=4, total=8, steps=1\n",
      "Parameters: num=4, total=12, steps=0\n",
      "16\n"
     ]
    }
   ],
   "source": [
    "def recurse(num, total, steps):\n",
    "    print(f\"Parameters: num={num}, total={total}, steps={steps}\")\n",
    "    result = num + total\n",
    "    if steps > 0:\n",
    "        result = recurse(num, result, steps - 1)\n",
    "    return result\n",
    "\n",
    "print(recurse(4, 0, 3))"
   ]
  },
  {
   "cell_type": "markdown",
   "metadata": {},
   "source": [
    "> How does it come the function has been called once but the output suggest 4 executions?\n",
    "> First of all, there is a rule (so-called language feature): In an assignment, the right side\n",
    "> - the one after the `=` - gets evaluated first, and after that the resulting value is assigned\n",
    "> to the left side.\n",
    "> It means that in this line:\n",
    "\n",
    "    result = recurse(num, result, steps - 1)\n",
    "\n",
    "> the `recurse()` function is called and evaluated before the result gets stored in `result`.\n",
    "\n",
    "> With this piece of knowledge, let's think about what happens in this situation:\n",
    ">\n",
    "> - `recurse()` is called with num=4, total=0, steps=3\n",
    "> - than, `result` *waits* for the evaluation of the right side which happens to be another\n",
    ">   call to `recurse()` - this time with num=4, total=4, steps=2\n",
    "> - this repeats with num=4, total=8, steps=1\n",
    "> - and finally with num=4, total=12, steps=0 when further execution is stop by the condition.\n",
    ">\n",
    "> Now the right side can be evaluated finally so:\n",
    "> 4 + 12 = 16, which is the result of the function which is returned to the calling code.\n",
    ">\n",
    "> Note: The concept of recursive function calls is quite difficult to understand. Human brain\n",
    "> is not used to think about problems in a recursive way. However, it can be trained to think this way\n",
    "> after some relatively short time. There is even quite a number of programming languages utilizing\n",
    "> this concept entirely - so called functional programming languages. So it's a viable concept.\n",
    "> Python, unfortunatelly, doesn't provide enough features to use this concept entirely."
   ]
  },
  {
   "cell_type": "markdown",
   "metadata": {},
   "source": [
    "\n",
    "## 3 Import/Export files\n",
    "\n",
    "The following exercises teach you how to work with files in Python. It is limited to text files so that the formatting of strings can be further deepened. Error handling of any user input and passed function parameters is part of every task, even if this is not explicitly mentioned.\n",
    "\n",
    "### 3.1 Reading Data\n",
    "\n",
    "Any text file with at least 10 lines should be stored in a self-selected test folder as the input file.\n",
    "\n",
    "Write a script that reads a text file and prints the content to the console. To do this, use a self-written function that takes a number, the path and the name of the file as parameters. Restrict the output of lines from the read file to the specified number.\n",
    "\n",
    "### 3.2 Writing Files\n",
    "\n",
    "Expand the script from exercise 3.1:\n",
    "\n",
    "Request two letters from the user to use for the replacement. Replace one letter with the other in the read data and write the result in a new file.\n",
    "\n",
    "Additional task:\n",
    "\n",
    "Replace all occurrences of the letter, regardless of upper or lower case.\n",
    "\n",
    "### 3.3 Making Lists\n",
    "\n",
    "A text file with at least 10 lines should be stored in a self-selected test folder as the input file. The contents of the file are rows of numbers, which are separated from one another by a separator of your choice.\n",
    "\n",
    "Write a script that reads a text file and saves the values ​​in lists. The output to a new file is transposed (= rows and columns swapped.)\n",
    "\n",
    "### 3.4 Conversion of data types\n",
    "\n",
    "A text file with at least 10 lines should be stored in a self-selected test folder as the input file. The contents of the file are rows of numbers, which are separated from one another by a separator of your choice.\n",
    "\n",
    "Write a script that reads a text file and saves the values ​​in lists. The line totals and number of summands are to be output in the output file.\n",
    "\n",
    "Import the input file into Excel and randomly check your results.\n",
    "\n",
    "## 4 Appendix: Programming guidelines (excerpt)\n",
    "\n",
    "• Variable names begin with the abbreviation of their data type\n",
    "\n",
    "o s = String\n",
    "\n",
    "o i = integer\n",
    "\n",
    "o f = float\n",
    "\n",
    "ol = list\n",
    "\n",
    "o d = Dictionary\n",
    "\n",
    "• Variable names are written in camel case,\n",
    "\n",
    "e.g. sMyVariable instead of s_my_variable\n",
    "\n",
    "• Function names are written in camel case\n",
    "\n",
    "• Function parameters begin with par_\n",
    "\n",
    "• 2 blank lines are inserted between two functions\n",
    "\n",
    "• There is a space after a comma\n",
    "\n",
    "• A space must be placed before and after an operator"
   ]
  },
  {
   "cell_type": "code",
   "execution_count": null,
   "metadata": {},
   "outputs": [],
   "source": []
  }
 ],
 "metadata": {
  "kernelspec": {
   "display_name": "Python 3.10.7 ('.venv': venv)",
   "language": "python",
   "name": "python3"
  },
  "language_info": {
   "codemirror_mode": {
    "name": "ipython",
    "version": 3
   },
   "file_extension": ".py",
   "mimetype": "text/x-python",
   "name": "python",
   "nbconvert_exporter": "python",
   "pygments_lexer": "ipython3",
   "version": "3.10.7"
  },
  "orig_nbformat": 4,
  "vscode": {
   "interpreter": {
    "hash": "67ac85ef0a3dc291e63f7706eeaf232b7ea9d91216fdbd5ad8cdf71f93eaa2e4"
   }
  }
 },
 "nbformat": 4,
 "nbformat_minor": 2
}
