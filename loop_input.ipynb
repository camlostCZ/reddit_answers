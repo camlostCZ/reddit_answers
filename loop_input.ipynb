{
    "cells": [
        {
            "cell_type": "markdown",
            "source": [
                "https://www.reddit.com/r/learnpython/comments/p427bh/if_or_while_loop/h8w606e/?context=3\r\n"
            ],
            "metadata": {}
        },
        {
            "cell_type": "markdown",
            "source": [
                "Let's start by getting the number of initial loops:"
            ],
            "metadata": {}
        },
        {
            "cell_type": "code",
            "execution_count": null,
            "source": [
                "number_of_loops = int(input(\"How many times would you like to loop? \"))"
            ],
            "outputs": [],
            "metadata": {}
        },
        {
            "cell_type": "markdown",
            "source": [
                "Next, print integers:"
            ],
            "metadata": {}
        },
        {
            "cell_type": "code",
            "execution_count": null,
            "source": [
                "for num in range(number_of_loops):\r\n",
                "    print(num)"
            ],
            "outputs": [],
            "metadata": {}
        },
        {
            "cell_type": "markdown",
            "source": [
                "Then, we need to check if the user want to see the next number.\r\n",
                "If so:\r\n",
                "- get the number\r\n",
                "- print it\r\n",
                "- ask to user if he/she wants to see another number.\r\n",
                "- if yes, repeat the steps."
            ],
            "metadata": {}
        },
        {
            "cell_type": "code",
            "execution_count": null,
            "source": [
                "answer = input(\"Do you want to see the next number? (y/n) \").lower()\r\n",
                "while answer == 'y':\r\n",
                "    num += 1\r\n",
                "    print(num)\r\n",
                "    answer = input(\"Do you want to see the next number? (y/n) \").lower()"
            ],
            "outputs": [],
            "metadata": {}
        },
        {
            "cell_type": "markdown",
            "source": [
                "Now, we can see the code is completely independant of anything except the initial number of integers to be printed.\r\n",
                "\r\n",
                "If we would be able to _assign_ _a_ _name_ to the code, we could be also able to use it several times - similarly to a variable which has a name so that it could carry its value through the code and it can also be used several times in a program.\r\n",
                "\r\n",
                "Functions provide exactly that.\r\n",
                "\r\n",
                "While widely considered an advanced topic, there isn't anything really advanced in them. By the way, we already use functions - not only in Python but also at mathematics. For example sin(x) is a perfect example of a function. It takes a parameter x a returns a result. Similarly, y = 2*x + 1 is another example of a function.\r\n",
                "\r\n",
                "Python provides a simple way to introduce new (custom) functions into our code. Let's take a look at it:"
            ],
            "metadata": {}
        },
        {
            "cell_type": "code",
            "execution_count": 9,
            "source": [
                "def loop_print(param):\r\n",
                "    for num in range(param):\r\n",
                "        print(num)"
            ],
            "outputs": [],
            "metadata": {}
        },
        {
            "cell_type": "markdown",
            "source": [
                "The *def* keyword is used to introduce a new function. It's followed by the function name. Often, selecting a suitable name is the most difficult step when creating a function. The the parenthesis follow. Inside them, the might be a list of parameters separated by a comma.\r\n",
                "\r\n",
                "Correct definitions of new functions:\r\n",
                "````\r\n",
                "def loop_print0()\r\n",
                "def loop_print1(par)\r\n",
                "def loop_print2(par1, par2, par3)\r\n",
                "````\r\n",
                "\r\n",
                "If there is a result of a function, it can be returned to the calling code with the *return* keyword.\r\n",
                "\r\n",
                "Our exaple doesn't have a result though so the *return* statement can be omitted."
            ],
            "metadata": {}
        },
        {
            "cell_type": "markdown",
            "source": [
                "So we've successfully introduced a new function named loop_print0().\r\n",
                "Now it's time to use it (to call it) - we try to call it with a parameter value 4:"
            ],
            "metadata": {}
        },
        {
            "cell_type": "code",
            "execution_count": 10,
            "source": [
                "loop_print(4)"
            ],
            "outputs": [
                {
                    "output_type": "stream",
                    "name": "stdout",
                    "text": [
                        "0\n",
                        "1\n",
                        "2\n",
                        "3\n"
                    ]
                }
            ],
            "metadata": {}
        },
        {
            "cell_type": "markdown",
            "source": [
                "What if we need to print just one number? Using functions, it's easy! After all we already used _input()_ which is a built-in function."
            ],
            "metadata": {}
        },
        {
            "cell_type": "code",
            "execution_count": 11,
            "source": [
                "loop_print(1)"
            ],
            "outputs": [
                {
                    "output_type": "stream",
                    "name": "stdout",
                    "text": [
                        "0\n"
                    ]
                }
            ],
            "metadata": {}
        },
        {
            "cell_type": "markdown",
            "source": [
                "Now it's time to extend the function so that it performs all the required steps."
            ],
            "metadata": {}
        },
        {
            "cell_type": "code",
            "execution_count": 2,
            "source": [
                "def reveal_numbers(n):\r\n",
                "    for num in range(n):\r\n",
                "        print(num)\r\n",
                "\r\n",
                "    answer = input(\"Do you want to see the next number? (y/n) \").lower()\r\n",
                "    while answer == 'y':\r\n",
                "        num += 1\r\n",
                "        print(num)\r\n",
                "        answer = input(\"Do you want to see the next number? (y/n) \").lower()"
            ],
            "outputs": [],
            "metadata": {}
        },
        {
            "cell_type": "markdown",
            "source": [
                "Finally, we can call the fuction with a value entered by the user:"
            ],
            "metadata": {}
        },
        {
            "cell_type": "code",
            "execution_count": 4,
            "source": [
                "answer = int(input(\"How many times would you like to loop? \"))\r\n",
                "reveal_numbers(answer)"
            ],
            "outputs": [
                {
                    "output_type": "stream",
                    "name": "stdout",
                    "text": [
                        "0\n",
                        "1\n",
                        "2\n",
                        "3\n",
                        "4\n",
                        "5\n"
                    ]
                }
            ],
            "metadata": {}
        }
    ],
    "metadata": {
        "orig_nbformat": 4,
        "language_info": {
            "name": "python",
            "version": "3.9.6",
            "mimetype": "text/x-python",
            "codemirror_mode": {
                "name": "ipython",
                "version": 3
            },
            "pygments_lexer": "ipython3",
            "nbconvert_exporter": "python",
            "file_extension": ".py"
        },
        "kernelspec": {
            "name": "python3",
            "display_name": "Python 3.9.6 64-bit ('.venv')"
        },
        "interpreter": {
            "hash": "b466c692c5fef4f91dc40a39510aff08783f6b7124e20fc2093e05d33c5d80df"
        }
    },
    "nbformat": 4,
    "nbformat_minor": 2
}