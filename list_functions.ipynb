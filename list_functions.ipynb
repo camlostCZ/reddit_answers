{
 "cells": [
  {
   "cell_type": "markdown",
   "metadata": {},
   "source": [
    "# 6.3 LAB: List functions\n",
    "\n",
    "https://www.reddit.com/r/pythonhomework/comments/xua7su/help_with_this_one_please/"
   ]
  },
  {
   "cell_type": "markdown",
   "metadata": {},
   "source": [
    "## Declare a constant variable ONE_TEN"
   ]
  },
  {
   "cell_type": "code",
   "execution_count": 1,
   "metadata": {},
   "outputs": [],
   "source": [
    "ONE_TEN = [1, 2, 3, 4, 5, 6, 7, 8, 9, 10]"
   ]
  },
  {
   "cell_type": "markdown",
   "metadata": {},
   "source": [
    "## Implement *main()*"
   ]
  },
  {
   "cell_type": "code",
   "execution_count": 15,
   "metadata": {},
   "outputs": [],
   "source": [
    "def main():\n",
    "    # Use ONE_TEN to define 'data' list\n",
    "    data = list(ONE_TEN)\n",
    "    print(f\"The original data for all functions is: {data}\")\n",
    "\n",
    "    replaced = replaceEven(data)\n",
    "    print(f\"After replacing even elements: {replaced}\")\n",
    "\n",
    "    large2 = secondLargest(data)\n",
    "    print(f\"The second largest element: {large2}\")\n",
    "\n",
    "    has_adj_duplicates = hasAdjacentDuplicate(data)\n",
    "    print(f\"The list has adjacent duplicates: {has_adj_duplicates}\")\n",
    "\n"
   ]
  },
  {
   "cell_type": "markdown",
   "metadata": {},
   "source": [
    "So this is basically the assignment rewritten in Python. Unfortunately, this code doesn't work.\n",
    "\n",
    "Why? Because it calls several functions which don't exist (yet):\n",
    "- replaceEven()\n",
    "- secondLargest()\n",
    "- hasAdjacentDuplicate()\n",
    "\n",
    "After we implement them, the code should work as requested."
   ]
  },
  {
   "cell_type": "markdown",
   "metadata": {},
   "source": [
    "## *replaceEven()*\n",
    "\n",
    "This one is rather simple. It will process each item in a list - if its value is even, it will be replaced by 0, otherwise the original item will be added to the result."
   ]
  },
  {
   "cell_type": "code",
   "execution_count": 14,
   "metadata": {},
   "outputs": [],
   "source": [
    "# If reasonably new version of Python is used, we can\n",
    "# specify a parameter type and the return type:\n",
    "# def replaceEven(numbers: list[int]) -> list[int]:\n",
    "\n",
    "# As this feature might not be supported everywhere, we use\n",
    "# the old way.\n",
    "def replaceEven(numbers):\n",
    "    result = []    # Resulting list; empty at the beginning\n",
    "    for item in numbers:    # Process each and every item from numbers, one at a time\n",
    "        if item % 2 == 0:   # Is the item an even number?\n",
    "            result.append(0)    # Add 0 if so.\n",
    "        else:\n",
    "            result.append(item) # Add the item, if not.\n",
    "    return result    # Return result to the calling function\n"
   ]
  },
  {
   "cell_type": "markdown",
   "metadata": {},
   "source": [
    "This is just a definition of the function. It doesn't do anything until it gets executed, i.e. called.\n",
    "\n",
    "A function is called by its named followed by parenthesis. If the function accepts parameters, their list has to be specified inside the parenthesis.\n",
    "\n",
    "We used this line in the *main()* above to call *replaceEven()*:\n",
    "\n",
    "```\n",
    "    replaced = replaceEven(data)\n",
    "```\n",
    "\n",
    "> Python always evaluates the right side of the statement first, i.e. the part after '=', and after that it stores the result in the variable on the left."
   ]
  },
  {
   "cell_type": "markdown",
   "metadata": {},
   "source": [
    "## *secondLargest()*\n",
    "\n",
    "There are several ways to find the 2nd largest number in a list. The easiest one could probably be:\n",
    "- sort the list in descending order\n",
    "- select the 2nd item of that sorted list\n",
    "\n",
    "Fortunatelly, Python can do all the heavy work for you as can be seen bellow."
   ]
  },
  {
   "cell_type": "code",
   "execution_count": 13,
   "metadata": {},
   "outputs": [],
   "source": [
    "def secondLargest(numbers):\n",
    "    result = None   # We don't know if we can supply a result\n",
    "    if len(numbers) > 1:  # If there are more than one elements in the list\n",
    "        descending_data = sorted(numbers, reverse=True)\n",
    "        result = descending_data[1]\n",
    "    return result   # Either return 2nd largest item, or None list is too short"
   ]
  },
  {
   "cell_type": "markdown",
   "metadata": {},
   "source": [
    "> Index is zero-based in Python. Thus, 1st item is at index 0, 2nd item at index 1, 3rd item at index 2, and so on."
   ]
  },
  {
   "cell_type": "markdown",
   "metadata": {},
   "source": [
    "## *hasAdjacentDuplicate()*\n",
    "\n",
    "This time, we will need to compare each element with its neighbor to see if they are equal.\n",
    "\n",
    "This seem like an easy task but a computer doesn't have a human brain so it's the programmer who has to ensure all edge cases have been covered appropriately.\n",
    "\n",
    "> What is an edge case? Let's imagine we would take a naive approch - we would just loop over each item and we would compare it with the next item. With what item exactly would be compared the last item? Right, there isn't any \"next\" item after the last one. A human brain can easily process such cases but computers usually can't. So we take a better approach."
   ]
  },
  {
   "cell_type": "code",
   "execution_count": 11,
   "metadata": {},
   "outputs": [],
   "source": [
    "def hasAdjacentDuplicate(numbers):\n",
    "    result = False  # If no adj. items found, the result will be False\n",
    "    num_length = len(numbers)  # The length of the list\n",
    "    for idx in range(num_length - 1):  # Go through all items except the last one\n",
    "        if numbers[idx] == numbers[idx + 1]:\n",
    "            result = True\n",
    "    return result"
   ]
  },
  {
   "cell_type": "markdown",
   "metadata": {},
   "source": [
    "Remember, *range()* returns a sequence of numbers starting with 0 (or a specified value) but the *stop* value is not included. Example:"
   ]
  },
  {
   "cell_type": "code",
   "execution_count": 10,
   "metadata": {},
   "outputs": [
    {
     "name": "stdout",
     "output_type": "stream",
     "text": [
      "[0, 1, 2, 3, 4, 5, 6, 7, 8, 9]\n",
      "vs.\n",
      "[0, 1, 2, 3, 4, 5, 6, 7, 8]\n"
     ]
    }
   ],
   "source": [
    "# The length of the original list is 10, so let's take a look at how it works\n",
    "print(list(range(10)))\n",
    "print(\"vs.\")\n",
    "# If we want to ommit the last item, let's subtract 1 from the length\n",
    "print(list(range(10 - 1)))"
   ]
  },
  {
   "cell_type": "markdown",
   "metadata": {},
   "source": [
    "Again, the index is zero-based so this is exactly the sequence we need to access item by their index."
   ]
  },
  {
   "cell_type": "markdown",
   "metadata": {},
   "source": [
    "Let's take another look at our function, *hasAdjacentDuplicate()*.\n",
    "\n",
    "First of all, it should work as expected meaning it returns the expected results. However, is it efficient? Not really.\n",
    "\n",
    "If adjacent duplicates have been found, the result of the function is known and any further processing cannot change it. It's possible to skip the rest of the numbers then.\n",
    "\n",
    "This is the right time to call `break` to action. It terminates the loop immediately and moves the program processing to the line following after the loop."
   ]
  },
  {
   "cell_type": "code",
   "execution_count": 12,
   "metadata": {},
   "outputs": [],
   "source": [
    "def hasAdjacentDuplicate(numbers):\n",
    "    result = False  \n",
    "    num_length = len(numbers) \n",
    "    for idx in range(num_length - 1):  # Go through all items except the last one\n",
    "        if numbers[idx] == numbers[idx + 1]:\n",
    "            result = True\n",
    "            break  # If found, terminate the loop and go to the next line\n",
    "    return result"
   ]
  },
  {
   "cell_type": "markdown",
   "metadata": {},
   "source": [
    "## Final step\n",
    "\n",
    "Now, that we have all the functions ready, we can call them. Since all the functions will be called from *main()*, the last thing we need to do is to execute this function."
   ]
  },
  {
   "cell_type": "code",
   "execution_count": 16,
   "metadata": {},
   "outputs": [
    {
     "name": "stdout",
     "output_type": "stream",
     "text": [
      "The original data for all functions is: [1, 2, 3, 4, 5, 6, 7, 8, 9, 10]\n",
      "After replacing even elements: [1, 0, 3, 0, 5, 0, 7, 0, 9, 0]\n",
      "The second largest element: 9\n",
      "The list has adjacent duplicates: False\n"
     ]
    }
   ],
   "source": [
    "main()"
   ]
  },
  {
   "cell_type": "markdown",
   "metadata": {},
   "source": [
    "> In a Jupyter notebook, we have the freedom of running code cells at arbitrary order.\n",
    "> This is not the case in a Python program - the code goes from top to bottom. There is a rule that any code can use only known (previously defined) code. So in this situation, the *main()* function should be defined as the last function in a file and only after that it could be called."
   ]
  }
 ],
 "metadata": {
  "kernelspec": {
   "display_name": "Python 3.10.7 ('.venv': venv)",
   "language": "python",
   "name": "python3"
  },
  "language_info": {
   "codemirror_mode": {
    "name": "ipython",
    "version": 3
   },
   "file_extension": ".py",
   "mimetype": "text/x-python",
   "name": "python",
   "nbconvert_exporter": "python",
   "pygments_lexer": "ipython3",
   "version": "3.10.7"
  },
  "orig_nbformat": 4,
  "vscode": {
   "interpreter": {
    "hash": "c2e2660e99e8eb0d97c94ace536915aeda05a9c5e4ad3b64b8d8133ed15b29df"
   }
  }
 },
 "nbformat": 4,
 "nbformat_minor": 2
}
