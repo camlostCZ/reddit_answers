{
 "cells": [
  {
   "cell_type": "markdown",
   "metadata": {},
   "source": [
    "# Lab Help\n",
    "User: vayneone87"
   ]
  },
  {
   "cell_type": "markdown",
   "metadata": {},
   "source": [
    "## Value vs. Variable\n",
    "\n",
    "A **variable** is a holder of a **value**. One can imagine a **variable** like a named box and the **value** like the content of the box.\n",
    "\n",
    "Is a **variable** required to have a name? Yes.\n",
    "Does a **variable** has to contain a **value**? This is a tricky question but let's say it does not."
   ]
  },
  {
   "cell_type": "markdown",
   "metadata": {},
   "source": [
    "Let's try to experiment with variables and values to see the difference:"
   ]
  },
  {
   "cell_type": "code",
   "execution_count": null,
   "metadata": {},
   "outputs": [
    {
     "name": "stdout",
     "output_type": "stream",
     "text": [
      "v1\n",
      "yet another value\n"
     ]
    }
   ],
   "source": [
    "'a value'    # This is a value\n",
    "\"another value\"   # This is a value as well\n",
    "\n",
    "v1 = \"yet another value\"    # A variable is initialized with a value\n",
    "\n",
    "\"v1\"    # This is a value\n",
    "print(\"v1\")    # Prints: v1\n",
    "print(v1)      # Prints: yet another value"
   ]
  },
  {
   "cell_type": "markdown",
   "metadata": {},
   "source": [
    "## Read user input 5 times\n",
    "There are at least two ways to read 5 values from the user. \n",
    "\n",
    "The first one simple reads each value into a new variable. They can be stored in a list afterwards."
   ]
  },
  {
   "cell_type": "code",
   "execution_count": 3,
   "metadata": {},
   "outputs": [
    {
     "name": "stdout",
     "output_type": "stream",
     "text": [
      "['a', 'b', 'c', 'd', 'e']\n"
     ]
    }
   ],
   "source": [
    "input_0 = input()\n",
    "input_1 = input()\n",
    "input_2 = input()\n",
    "input_3 = input()\n",
    "input_4 = input()\n",
    "\n",
    "mylist = [input_0, input_1, input_2, input_3, input_4]\n",
    "print(mylist)"
   ]
  },
  {
   "cell_type": "markdown",
   "metadata": {},
   "source": [
    "The other and the preferred way - using a loop. The idea is to let the user to enter a value and to add the value into a list immediately. If repeated 5 times, the result is the same as in the previous code."
   ]
  },
  {
   "cell_type": "code",
   "execution_count": 3,
   "metadata": {},
   "outputs": [
    {
     "name": "stdout",
     "output_type": "stream",
     "text": [
      "['a', 'b', 'c', 'd', 'e']\n"
     ]
    }
   ],
   "source": [
    "mylist = []    # An empty list\n",
    "\n",
    "for each_step in range(5):    # Repeat 5 times\n",
    "    var = input()             # Let user to enter a value and store it in var\n",
    "    mylist.append(var)       # Add the value stored in var to the list\n",
    "\n",
    "print(mylist)"
   ]
  },
  {
   "cell_type": "markdown",
   "metadata": {},
   "source": [
    "The result is the same in both the cases."
   ]
  },
  {
   "cell_type": "markdown",
   "metadata": {},
   "source": [
    "## Tasks\n",
    "Let's create some other list as required:"
   ]
  },
  {
   "cell_type": "code",
   "execution_count": 4,
   "metadata": {},
   "outputs": [],
   "source": [
    "my_fruit1 = mylist[0:3]\n",
    "my_fruit2 = mylist[0:4]\n",
    "my_fruit3 = mylist[::]\n",
    "\n",
    "your_fruit1 = mylist[::]\n",
    "your_fruit2 = mylist[0:4]\n",
    "\n",
    "their_fruit = my_fruit1 + my_fruit2 + my_fruit3"
   ]
  },
  {
   "cell_type": "markdown",
   "metadata": {},
   "source": [
    "### Task 1: Fruits\n",
    "Define a set, fruits, containing my_fruit1, my_fruit2, and my_fruit3"
   ]
  },
  {
   "cell_type": "markdown",
   "metadata": {},
   "source": [
    "That means we are required to create a set. So we introduce a new variable `fruits` and initialize it with a value.\n"
   ]
  },
  {
   "cell_type": "code",
   "execution_count": 5,
   "metadata": {},
   "outputs": [
    {
     "name": "stdout",
     "output_type": "stream",
     "text": [
      "{'a', 'c', 'b'}\n",
      "{'d', 'a', 'c', 'b'}\n",
      "{'d', 'a', 'c', 'e', 'b'}\n"
     ]
    }
   ],
   "source": [
    "fruits = set()    # An empty set\n",
    "\n",
    "fruits.update(my_fruit1)    # Add first list to the set\n",
    "print(fruits)\n",
    "\n",
    "fruits.update(my_fruit2)    # Add 2nd list\n",
    "print(fruits)\n",
    "\n",
    "fruits.update(my_fruit3)\n",
    "print(fruits)"
   ]
  },
  {
   "cell_type": "markdown",
   "metadata": {},
   "source": [
    "*Note* A set contains **unordered** sequence of values. Each value can occur only once in a set."
   ]
  },
  {
   "cell_type": "markdown",
   "metadata": {},
   "source": [
    "## Task 2: Your Fruits\n",
    "Add your_fruit1 and your_fruit2 to fruits"
   ]
  },
  {
   "cell_type": "markdown",
   "metadata": {},
   "source": [
    "We're able to add lists to the set so this one is easy:"
   ]
  },
  {
   "cell_type": "code",
   "execution_count": 6,
   "metadata": {},
   "outputs": [
    {
     "name": "stdout",
     "output_type": "stream",
     "text": [
      "{'d', 'a', 'c', 'e', 'b'}\n"
     ]
    }
   ],
   "source": [
    "fruits.update(your_fruit1)\n",
    "fruits.update(your_fruit2)\n",
    "\n",
    "# We can check the result using print():\n",
    "print(fruits)"
   ]
  }
 ],
 "metadata": {
  "kernelspec": {
   "display_name": "Python 3.10.4 ('.venv': venv)",
   "language": "python",
   "name": "python3"
  },
  "language_info": {
   "codemirror_mode": {
    "name": "ipython",
    "version": 3
   },
   "file_extension": ".py",
   "mimetype": "text/x-python",
   "name": "python",
   "nbconvert_exporter": "python",
   "pygments_lexer": "ipython3",
   "version": "3.10.4"
  },
  "orig_nbformat": 4,
  "vscode": {
   "interpreter": {
    "hash": "b515fdc854814967173e19194ba42c5616f75512a221ab83fd7c5c221b5b72c9"
   }
  }
 },
 "nbformat": 4,
 "nbformat_minor": 2
}
