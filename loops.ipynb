{
 "cells": [
  {
   "cell_type": "markdown",
   "metadata": {},
   "source": [
    "# Python Loops\n",
    "\n",
    "Loops are a programming language concept used to repeat a particular code.\n",
    "\n",
    "Python provides only two types of loops, `for` and `while`. Let's start with the latter."
   ]
  },
  {
   "cell_type": "markdown",
   "metadata": {},
   "source": [
    "## The *while* loop\n",
    "\n",
    "This loop works in a very simple way - it checks whether a condition is **True** and if so, it executes the code inside the loop. And it checks the condition again and if it's **True**, it runs the code again. This continues *while* the condition is **True**.\n",
    "\n",
    "In other words, it stops executing if the condition is **False**. It's perfectly possible the loop does NOT executed the code even once - if the condition isn't **True** at the very beginning.\n",
    "\n",
    "The syntax is:\n",
    "\n",
    "```\n",
    "while <condition>:\n",
    "    <code>\n",
    "```\n",
    "\n",
    "Example follows."
   ]
  },
  {
   "cell_type": "code",
   "execution_count": 4,
   "metadata": {},
   "outputs": [
    {
     "name": "stdout",
     "output_type": "stream",
     "text": [
      "Steps left: 3\n",
      "Steps left: 2\n",
      "2 is even.\n",
      "Steps left: 1\n",
      "The loop finished, we're done.\n"
     ]
    }
   ],
   "source": [
    "loops_left = 3\n",
    "while loops_left > 0:\n",
    "    # Code which will be repeated\n",
    "    print(f\"Steps left: {loops_left}\")\n",
    "\n",
    "    # Let's do something non-trivial, check if a number is even.\n",
    "    if loops_left % 2 == 0:\n",
    "        print(f\"{loops_left} is even.\")\n",
    "    \n",
    "    # Don't forget to decrease loops_left,\n",
    "    # otherwise the loop wouldn't be ever terminated.\n",
    "    loops_left -= 1\n",
    "print(\"The loop finished, we're done.\")"
   ]
  },
  {
   "cell_type": "markdown",
   "metadata": {},
   "source": [
    "As can be seen, the `while` loop starts with a check whether the condition is met, is if *loops_left* is currently greater than 0. It is thus the code inside the loop can be executed.\n",
    "\n",
    "The *loops_left* variable decreases its value by 1 at the end of the code so the check fails after several iterations. In such a case, the loop code is not executed (anymore) and the program continues with executing the next line after the loop."
   ]
  },
  {
   "cell_type": "markdown",
   "metadata": {},
   "source": [
    "## The *for* loop\n",
    "\n",
    "The `for` loop works in a completely different way. It processes all items from a *sequence* one after another.\n",
    "\n",
    "> __Note__\n",
    ">\n",
    "> Sequence is a general term used to describe lists, tuples, ranges and other Python sequence types. We've used this term to emphesize the `for` loop can process all these types (not only ranges).\n",
    "\n",
    "Instead of evaluating a condition, `for` loop just ask a sequence for the next item. Then, the code is executed, it probably processes the item somehow and after that, then next item get processed and so on until all the items will be processed.\n",
    "\n",
    "The syntax is:\n",
    "\n",
    "```\n",
    "for <variable> in <sequence>:\n",
    "    <code>\n",
    "```\n",
    "\n",
    "Example:"
   ]
  },
  {
   "cell_type": "code",
   "execution_count": 6,
   "metadata": {},
   "outputs": [
    {
     "name": "stdout",
     "output_type": "stream",
     "text": [
      "2015 is not a leap year.\n",
      "2016 is a leap year.\n",
      "2017 is not a leap year.\n",
      "2018 is not a leap year.\n",
      "2019 is not a leap year.\n",
      "2020 is a leap year.\n",
      "2021 is not a leap year.\n",
      "2022 is not a leap year.\n",
      "All items have been processed.\n"
     ]
    }
   ],
   "source": [
    "years = [2015, 2016, 2017, 2018, 2019, 2020, 2021, 2022]\n",
    "for each_item in years:\n",
    "    verb = \"is not\"\n",
    "    \n",
    "    # Check if a year is a leap year\n",
    "    if each_item % 400 == 0 or each_item % 100 != 0 and each_item % 4 == 0:\n",
    "        verb = \"is\"\n",
    "    \n",
    "    print(f\"{each_item} {verb} a leap year.\")\n",
    "\n",
    "print(\"All items have been processed.\")"
   ]
  },
  {
   "cell_type": "markdown",
   "metadata": {},
   "source": [
    "> __Note__\n",
    "> \n",
    "> Several other programming languages use `foreach` loop and `for` loop as different types of loops. Python does have just the `for` loop but it behaves like `foreach` in those other languages. This is a common source of confusion. Because of that, I would suggest to use *each* or *each_item* as the variable name before a programmer gets accustomed to this behavior."
   ]
  },
  {
   "cell_type": "markdown",
   "metadata": {},
   "source": [
    "The above piece of code can be written in another way of course. The *year* list is just a consecutive sequence of years so we can use `range()` instead of the list:"
   ]
  },
  {
   "cell_type": "code",
   "execution_count": 8,
   "metadata": {},
   "outputs": [
    {
     "name": "stdout",
     "output_type": "stream",
     "text": [
      "[2015, 2016, 2017, 2018, 2019, 2020, 2021, 2022]\n"
     ]
    }
   ],
   "source": [
    "# range() generates a sequence - ex:\n",
    "print(list(range(2015, 2023)))"
   ]
  },
  {
   "cell_type": "code",
   "execution_count": 10,
   "metadata": {},
   "outputs": [
    {
     "name": "stdout",
     "output_type": "stream",
     "text": [
      "2015 is not a leap year.\n",
      "2016 is a leap year.\n",
      "2017 is not a leap year.\n",
      "2018 is not a leap year.\n",
      "2019 is not a leap year.\n",
      "2020 is a leap year.\n",
      "2021 is not a leap year.\n",
      "2022 is not a leap year.\n",
      "All items have been processed.\n"
     ]
    }
   ],
   "source": [
    "for each in range(2015, 2023):\n",
    "    verb = \"is not\"\n",
    "    \n",
    "    # Check if a year is a leap year\n",
    "    if each % 400 == 0 or each % 100 != 0 and each % 4 == 0:\n",
    "        verb = \"is\"\n",
    "    \n",
    "    print(f\"{each} {verb} a leap year.\")\n",
    "\n",
    "print(\"All items have been processed.\")"
   ]
  },
  {
   "cell_type": "markdown",
   "metadata": {},
   "source": [
    "Sometimes, the very same result can be achieved with `while` and `for` loops. Which one depends on the programmer and their experience. A rule of thumb could be:\n",
    "\n",
    "Is the source of data a sequence? Use the `for` loop. Otherwise, go for the `while` loop. But as my professor told me, *All theory, dear friend, is gray, but the golden tree of life springs ever green.* [Johann Wolfgang von Goethe]"
   ]
  },
  {
   "cell_type": "markdown",
   "metadata": {},
   "source": [
    "## The *break* statement\n",
    "\n",
    "Sometimes you need to stop the loop execution before the expected end - before all the items have been processed or even if the condition is still met.\n",
    "\n",
    "Then, you use `break`.\n",
    "\n",
    "It just terminates further execution of the loop code and the program goes on the line after the loop and continues its flow from there.\n",
    "\n",
    "This is used in many situations but there is one typical scenario in Python when it's most common - so called *do-while* loops.\n",
    "\n",
    "### The *do-while* loops\n",
    "\n",
    "To be clear, Python doesn't provide yet another (third) type of loop - contrary to some or maybe most other languages like Javascript for example.\n",
    "\n",
    "So if you want to execute a code, THEN evaluate a condition and only if this condition is met, repeat the loop, you need to use `while` and `break`:"
   ]
  },
  {
   "cell_type": "code",
   "execution_count": 12,
   "metadata": {},
   "outputs": [
    {
     "name": "stdout",
     "output_type": "stream",
     "text": [
      "Wrong input. Use positive numbers only.\n",
      "You're still a kid! Congratulations!\n",
      "Done.\n"
     ]
    }
   ],
   "source": [
    "# Repeat until the user enters a valid age.\n",
    "while True:\n",
    "    # True is always true so this would run indefinitely if not terminated later.\n",
    "    answer = input(\"Your age: \")\n",
    "    age = -1\n",
    "    if answer.isdigit():\n",
    "        age = int(answer)\n",
    "        if age >= 18:\n",
    "            print(\"You're an adult. Such a bad luck!\")\n",
    "        else:\n",
    "            print(\"You're still a kid! Congratulations!\")\n",
    "        break # Terminate the loop NOW\n",
    "    else:\n",
    "        # Else is unnecessary because of the break above\n",
    "        print(\"Wrong input. Use positive numbers only.\")\n",
    "print(\"Done.\")"
   ]
  }
 ],
 "metadata": {
  "kernelspec": {
   "display_name": "Python 3.10.7 ('.venv': venv)",
   "language": "python",
   "name": "python3"
  },
  "language_info": {
   "codemirror_mode": {
    "name": "ipython",
    "version": 3
   },
   "file_extension": ".py",
   "mimetype": "text/x-python",
   "name": "python",
   "nbconvert_exporter": "python",
   "pygments_lexer": "ipython3",
   "version": "3.10.7"
  },
  "orig_nbformat": 4,
  "vscode": {
   "interpreter": {
    "hash": "c2e2660e99e8eb0d97c94ace536915aeda05a9c5e4ad3b64b8d8133ed15b29df"
   }
  }
 },
 "nbformat": 4,
 "nbformat_minor": 2
}
